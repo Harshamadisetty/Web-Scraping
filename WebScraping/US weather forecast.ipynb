{
 "cells": [
  {
   "cell_type": "code",
   "execution_count": 18,
   "metadata": {},
   "outputs": [],
   "source": [
    "from bs4 import BeautifulSoup\n",
    "import requests\n"
   ]
  },
  {
   "cell_type": "code",
   "execution_count": 28,
   "metadata": {},
   "outputs": [],
   "source": [
    "page = requests.get(\"http://forecast.weather.gov/MapClick.php?lat=37.7772&lon=-122.4168\")\n",
    "soup = BeautifulSoup(page.content, 'html.parser')\n",
    "seven_day = soup.find(id=\"seven-day-forecast\")\n",
    "seven_day.text\n",
    "forecast_items = seven_day.find_all(class_=\"tombstone-container\")\n"
   ]
  },
  {
   "cell_type": "code",
   "execution_count": 30,
   "metadata": {},
   "outputs": [
    {
     "data": {
      "text/plain": [
       "'Extended Forecast for\\t    \\t    San Francisco CA\\tTodaySunnyHigh: 72 °FTonightMostly ClearLow: 47 °FSaturdaySunnyHigh: 74 °FSaturdayNightMostly ClearLow: 48 °FSundaySunnyHigh: 71 °FSundayNightMostly ClearLow: 48 °FMondaySunnyHigh: 65 °FMondayNightClearLow: 48 °FTuesdaySunnyHigh: 71 °F '"
      ]
     },
     "execution_count": 30,
     "metadata": {},
     "output_type": "execute_result"
    }
   ],
   "source": [
    "seven_day.text.replace('\\n','')"
   ]
  },
  {
   "cell_type": "code",
   "execution_count": 32,
   "metadata": {},
   "outputs": [],
   "source": [
    "Forecast=[]\n",
    "for i in forecast_items:\n",
    "        Forecast.append(i.text.replace('\\n',''))\n"
   ]
  },
  {
   "cell_type": "code",
   "execution_count": 33,
   "metadata": {},
   "outputs": [
    {
     "data": {
      "text/plain": [
       "['TodaySunnyHigh: 72 °F',\n",
       " 'TonightMostly ClearLow: 47 °F',\n",
       " 'SaturdaySunnyHigh: 74 °F',\n",
       " 'SaturdayNightMostly ClearLow: 48 °F',\n",
       " 'SundaySunnyHigh: 71 °F',\n",
       " 'SundayNightMostly ClearLow: 48 °F',\n",
       " 'MondaySunnyHigh: 65 °F',\n",
       " 'MondayNightClearLow: 48 °F',\n",
       " 'TuesdaySunnyHigh: 71 °F']"
      ]
     },
     "execution_count": 33,
     "metadata": {},
     "output_type": "execute_result"
    }
   ],
   "source": [
    "Forecast"
   ]
  },
  {
   "cell_type": "code",
   "execution_count": 34,
   "metadata": {},
   "outputs": [],
   "source": [
    "import pandas as pd\n",
    "Data=pd.DataFrame()\n",
    "Data[\"Forecast\"]=Forecast"
   ]
  },
  {
   "cell_type": "code",
   "execution_count": 35,
   "metadata": {},
   "outputs": [
    {
     "data": {
      "text/html": [
       "<div>\n",
       "<style scoped>\n",
       "    .dataframe tbody tr th:only-of-type {\n",
       "        vertical-align: middle;\n",
       "    }\n",
       "\n",
       "    .dataframe tbody tr th {\n",
       "        vertical-align: top;\n",
       "    }\n",
       "\n",
       "    .dataframe thead th {\n",
       "        text-align: right;\n",
       "    }\n",
       "</style>\n",
       "<table border=\"1\" class=\"dataframe\">\n",
       "  <thead>\n",
       "    <tr style=\"text-align: right;\">\n",
       "      <th></th>\n",
       "      <th>Forecast</th>\n",
       "    </tr>\n",
       "  </thead>\n",
       "  <tbody>\n",
       "    <tr>\n",
       "      <th>0</th>\n",
       "      <td>TodaySunnyHigh: 72 °F</td>\n",
       "    </tr>\n",
       "    <tr>\n",
       "      <th>1</th>\n",
       "      <td>TonightMostly ClearLow: 47 °F</td>\n",
       "    </tr>\n",
       "    <tr>\n",
       "      <th>2</th>\n",
       "      <td>SaturdaySunnyHigh: 74 °F</td>\n",
       "    </tr>\n",
       "    <tr>\n",
       "      <th>3</th>\n",
       "      <td>SaturdayNightMostly ClearLow: 48 °F</td>\n",
       "    </tr>\n",
       "    <tr>\n",
       "      <th>4</th>\n",
       "      <td>SundaySunnyHigh: 71 °F</td>\n",
       "    </tr>\n",
       "    <tr>\n",
       "      <th>5</th>\n",
       "      <td>SundayNightMostly ClearLow: 48 °F</td>\n",
       "    </tr>\n",
       "    <tr>\n",
       "      <th>6</th>\n",
       "      <td>MondaySunnyHigh: 65 °F</td>\n",
       "    </tr>\n",
       "    <tr>\n",
       "      <th>7</th>\n",
       "      <td>MondayNightClearLow: 48 °F</td>\n",
       "    </tr>\n",
       "    <tr>\n",
       "      <th>8</th>\n",
       "      <td>TuesdaySunnyHigh: 71 °F</td>\n",
       "    </tr>\n",
       "  </tbody>\n",
       "</table>\n",
       "</div>"
      ],
      "text/plain": [
       "                              Forecast\n",
       "0                TodaySunnyHigh: 72 °F\n",
       "1        TonightMostly ClearLow: 47 °F\n",
       "2             SaturdaySunnyHigh: 74 °F\n",
       "3  SaturdayNightMostly ClearLow: 48 °F\n",
       "4               SundaySunnyHigh: 71 °F\n",
       "5    SundayNightMostly ClearLow: 48 °F\n",
       "6               MondaySunnyHigh: 65 °F\n",
       "7           MondayNightClearLow: 48 °F\n",
       "8              TuesdaySunnyHigh: 71 °F"
      ]
     },
     "execution_count": 35,
     "metadata": {},
     "output_type": "execute_result"
    }
   ],
   "source": [
    "Data"
   ]
  },
  {
   "cell_type": "code",
   "execution_count": null,
   "metadata": {},
   "outputs": [],
   "source": []
  }
 ],
 "metadata": {
  "kernelspec": {
   "display_name": "Python 3",
   "language": "python",
   "name": "python3"
  },
  "language_info": {
   "codemirror_mode": {
    "name": "ipython",
    "version": 3
   },
   "file_extension": ".py",
   "mimetype": "text/x-python",
   "name": "python",
   "nbconvert_exporter": "python",
   "pygments_lexer": "ipython3",
   "version": "3.8.5"
  }
 },
 "nbformat": 4,
 "nbformat_minor": 4
}
